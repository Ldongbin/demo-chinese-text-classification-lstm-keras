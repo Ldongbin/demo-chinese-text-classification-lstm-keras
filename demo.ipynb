{
  "cells": [
    {
      "cell_type": "code",
      "source": [
        "import pandas as pd"
      ],
      "outputs": [],
      "execution_count": 0,
      "metadata": {
        "id": "68JkPB8NbKzX",
        "colab_type": "code",
        "colab": {}
      }
    },
    {
      "cell_type": "code",
      "source": [
        "!git clone https://github.com/wshuyi/demo-chinese-text-classification-lstm-keras.git"
      ],
      "outputs": [],
      "execution_count": 0,
      "metadata": {
        "id": "md4Mf2P8CKKb",
        "colab_type": "code",
        "colab": {}
      }
    },
    {
      "cell_type": "code",
      "source": [
        "from pathlib import Path"
      ],
      "outputs": [],
      "execution_count": 0,
      "metadata": {
        "id": "qWfsKVfeCZmz",
        "colab_type": "code",
        "colab": {}
      }
    },
    {
      "cell_type": "code",
      "source": [
        "mypath = Path(\"demo-chinese-text-classification-lstm-keras\")"
      ],
      "outputs": [],
      "execution_count": 0,
      "metadata": {
        "id": "a8-7L2yHCccB",
        "colab_type": "code",
        "colab": {}
      }
    },
    {
      "cell_type": "code",
      "source": [
        "df = pd.read_csv(mypath/'dianping.csv')"
      ],
      "outputs": [],
      "execution_count": 0,
      "metadata": {
        "id": "VfiCdQpIj7PL",
        "colab_type": "code",
        "colab": {}
      }
    },
    {
      "cell_type": "code",
      "source": [
        "df.head()"
      ],
      "outputs": [],
      "execution_count": 0,
      "metadata": {
        "id": "ENeThW2vkeEp",
        "colab_type": "code",
        "colab": {}
      }
    },
    {
      "cell_type": "code",
      "source": [
        "!pip install jieba"
      ],
      "outputs": [],
      "execution_count": 0,
      "metadata": {
        "id": "V7SFwAwQncxt",
        "colab_type": "code",
        "colab": {}
      }
    },
    {
      "cell_type": "code",
      "source": [
        "import jieba"
      ],
      "outputs": [],
      "execution_count": 0,
      "metadata": {
        "id": "gkRw-p0ukNue",
        "colab_type": "code",
        "colab": {}
      }
    },
    {
      "cell_type": "code",
      "source": [
        "df['text'] = df.comment.apply(lambda x: \" \".join(jieba.cut(x)))"
      ],
      "outputs": [],
      "execution_count": 0,
      "metadata": {
        "id": "xQF1CCc8nbrd",
        "colab_type": "code",
        "colab": {}
      }
    },
    {
      "cell_type": "code",
      "source": [
        "df.head()"
      ],
      "outputs": [],
      "execution_count": 0,
      "metadata": {
        "id": "h3vMIzMMno-n",
        "colab_type": "code",
        "colab": {}
      }
    },
    {
      "cell_type": "code",
      "source": [
        "df = df[['text', 'sentiment']]"
      ],
      "outputs": [],
      "execution_count": 0,
      "metadata": {
        "id": "lUq0vDAansUY",
        "colab_type": "code",
        "colab": {}
      }
    },
    {
      "cell_type": "code",
      "source": [
        "df.head()"
      ],
      "outputs": [],
      "execution_count": 0,
      "metadata": {
        "id": "Hb-TXWJin0GK",
        "colab_type": "code",
        "colab": {}
      }
    },
    {
      "cell_type": "code",
      "source": [
        "from keras.preprocessing.text import Tokenizer\n",
        "from keras.preprocessing.sequence import pad_sequences\n",
        "import numpy as np"
      ],
      "outputs": [],
      "execution_count": 0,
      "metadata": {
        "id": "C0Ir4hJEn0iR",
        "colab_type": "code",
        "colab": {}
      }
    },
    {
      "cell_type": "code",
      "source": [
        "maxlen = 100\n",
        "max_words = 10000"
      ],
      "outputs": [],
      "execution_count": 0,
      "metadata": {
        "id": "WFsTI_StoDee",
        "colab_type": "code",
        "colab": {}
      }
    },
    {
      "cell_type": "code",
      "source": [
        "tokenizer = Tokenizer(num_words=max_words)\n",
        "tokenizer.fit_on_texts(df.text)\n",
        "sequences = tokenizer.texts_to_sequences(df.text)"
      ],
      "outputs": [],
      "execution_count": 0,
      "metadata": {
        "id": "YPfu4Sc4oE4O",
        "colab_type": "code",
        "colab": {}
      }
    },
    {
      "cell_type": "code",
      "source": [
        "type(sequences)"
      ],
      "outputs": [],
      "execution_count": 0,
      "metadata": {
        "id": "cwcpUTfkE2wT",
        "colab_type": "code",
        "colab": {}
      }
    },
    {
      "cell_type": "code",
      "source": [
        "sequences[:1]"
      ],
      "outputs": [],
      "execution_count": 0,
      "metadata": {
        "id": "gmKbSpeiFBQA",
        "colab_type": "code",
        "colab": {}
      }
    },
    {
      "cell_type": "code",
      "source": [
        "for sequence in sequences[:5]:\n",
        "  print(len(sequence))"
      ],
      "outputs": [],
      "execution_count": 0,
      "metadata": {
        "id": "AhkLJC92FKjV",
        "colab_type": "code",
        "colab": {}
      }
    },
    {
      "cell_type": "code",
      "source": [
        "data = pad_sequences(sequences, maxlen=maxlen)"
      ],
      "outputs": [],
      "execution_count": 0,
      "metadata": {
        "id": "Y_j3kuru2gLP",
        "colab_type": "code",
        "colab": {}
      }
    },
    {
      "cell_type": "code",
      "source": [
        "data"
      ],
      "outputs": [],
      "execution_count": 0,
      "metadata": {
        "id": "6MzGATa12hy_",
        "colab_type": "code",
        "colab": {}
      }
    },
    {
      "cell_type": "code",
      "source": [
        "word_index = tokenizer.word_index"
      ],
      "outputs": [],
      "execution_count": 0,
      "metadata": {
        "id": "FvbiBggvvYjs",
        "colab_type": "code",
        "colab": {}
      }
    },
    {
      "cell_type": "code",
      "source": [
        "type(word_index)"
      ],
      "outputs": [],
      "execution_count": 0,
      "metadata": {
        "id": "_u7SJ1ciFi2J",
        "colab_type": "code",
        "colab": {}
      }
    },
    {
      "cell_type": "code",
      "source": [
        "print(word_index)"
      ],
      "outputs": [],
      "execution_count": 0,
      "metadata": {
        "id": "kg9LsZO-FlsV",
        "colab_type": "code",
        "colab": {}
      }
    },
    {
      "cell_type": "code",
      "source": [
        "labels = np.array(df.sentiment)"
      ],
      "outputs": [],
      "execution_count": 0,
      "metadata": {
        "id": "ao9cMCDo2jwf",
        "colab_type": "code",
        "colab": {}
      }
    },
    {
      "cell_type": "code",
      "source": [
        "labels"
      ],
      "outputs": [],
      "execution_count": 0,
      "metadata": {
        "id": "Vh0n8ee5FvUQ",
        "colab_type": "code",
        "colab": {}
      }
    },
    {
      "cell_type": "code",
      "source": [
        "indices = np.arange(data.shape[0])\n",
        "np.random.shuffle(indices)\n",
        "data = data[indices]\n",
        "labels = labels[indices]"
      ],
      "outputs": [],
      "execution_count": 0,
      "metadata": {
        "id": "dr9aeSAh24ZB",
        "colab_type": "code",
        "colab": {}
      }
    },
    {
      "cell_type": "code",
      "source": [
        "labels"
      ],
      "outputs": [],
      "execution_count": 0,
      "metadata": {
        "id": "O7lu6LTiF1_R",
        "colab_type": "code",
        "colab": {}
      }
    },
    {
      "cell_type": "code",
      "source": [
        "training_samples = int(len(indices) * .8)\n",
        "validation_samples = len(indices) - training_samples"
      ],
      "outputs": [],
      "execution_count": 0,
      "metadata": {
        "id": "XkuiorQz3Fqb",
        "colab_type": "code",
        "colab": {}
      }
    },
    {
      "cell_type": "code",
      "source": [
        "training_samples"
      ],
      "outputs": [],
      "execution_count": 0,
      "metadata": {
        "id": "K7-cjA_V3Lhr",
        "colab_type": "code",
        "colab": {}
      }
    },
    {
      "cell_type": "code",
      "source": [
        "validation_samples"
      ],
      "outputs": [],
      "execution_count": 0,
      "metadata": {
        "id": "lQD5X79MF-8c",
        "colab_type": "code",
        "colab": {}
      }
    },
    {
      "cell_type": "code",
      "source": [
        "X_train = data[:training_samples]\n",
        "y_train = labels[:training_samples]\n",
        "X_valid = data[training_samples: training_samples + validation_samples]\n",
        "y_valid = labels[training_samples: training_samples + validation_samples]"
      ],
      "outputs": [],
      "execution_count": 0,
      "metadata": {
        "id": "7Zj3c0_g3Beh",
        "colab_type": "code",
        "colab": {}
      }
    },
    {
      "cell_type": "code",
      "source": [
        "X_train"
      ],
      "outputs": [],
      "execution_count": 0,
      "metadata": {
        "id": "f0YBr7uUGIPm",
        "colab_type": "code",
        "colab": {}
      }
    },
    {
      "cell_type": "code",
      "source": [
        "!pip install gensim"
      ],
      "outputs": [],
      "execution_count": 0,
      "metadata": {
        "id": "wH62TnL6t7zK",
        "colab_type": "code",
        "colab": {}
      }
    },
    {
      "cell_type": "code",
      "source": [
        "from gensim.models import KeyedVectors"
      ],
      "outputs": [],
      "execution_count": 0,
      "metadata": {
        "id": "tWV4rLt1qEBS",
        "colab_type": "code",
        "colab": {}
      }
    },
    {
      "cell_type": "code",
      "source": [
        "myzip = mypath / 'zh.zip'"
      ],
      "outputs": [],
      "execution_count": 0,
      "metadata": {
        "id": "_dg5mMRlG2Gs",
        "colab_type": "code",
        "colab": {}
      }
    },
    {
      "cell_type": "code",
      "source": [
        "!unzip $myzip"
      ],
      "outputs": [],
      "execution_count": 0,
      "metadata": {
        "id": "UeW-kBSxGXDs",
        "colab_type": "code",
        "colab": {}
      }
    },
    {
      "cell_type": "code",
      "source": [
        "zh_model = KeyedVectors.load_word2vec_format('zh.vec')"
      ],
      "outputs": [],
      "execution_count": 0,
      "metadata": {
        "id": "3BWQs3Bht6Xi",
        "colab_type": "code",
        "colab": {}
      }
    },
    {
      "cell_type": "code",
      "source": [
        "zh_model.vectors[0]"
      ],
      "outputs": [],
      "execution_count": 0,
      "metadata": {
        "id": "Nrn8b_iiuDJx",
        "colab_type": "code",
        "colab": {}
      }
    },
    {
      "cell_type": "code",
      "source": [
        "list(iter(zh_model.vocab))[:5]"
      ],
      "outputs": [],
      "execution_count": 0,
      "metadata": {
        "id": "jGMxXx7xuL_i",
        "colab_type": "code",
        "colab": {}
      }
    },
    {
      "cell_type": "code",
      "source": [
        "len(zh_model[next(iter(zh_model.vocab))])"
      ],
      "outputs": [],
      "execution_count": 0,
      "metadata": {
        "id": "2OIjtG0Uvz2I",
        "colab_type": "code",
        "colab": {}
      }
    },
    {
      "cell_type": "code",
      "source": [
        "embedding_dim = len(zh_model[next(iter(zh_model.vocab))])"
      ],
      "outputs": [],
      "execution_count": 0,
      "metadata": {
        "id": "YYZ4W-CpvbzZ",
        "colab_type": "code",
        "colab": {}
      }
    },
    {
      "cell_type": "code",
      "source": [
        "embedding_matrix = np.random.rand(max_words, embedding_dim)"
      ],
      "outputs": [],
      "execution_count": 0,
      "metadata": {
        "id": "DzzT4n6UAfh6",
        "colab_type": "code",
        "colab": {}
      }
    },
    {
      "cell_type": "code",
      "source": [
        "embedding_matrix"
      ],
      "outputs": [],
      "execution_count": 0,
      "metadata": {
        "id": "OM19_HPUv5qG",
        "colab_type": "code",
        "colab": {}
      }
    },
    {
      "cell_type": "code",
      "source": [
        "embedding_matrix = (embedding_matrix - 0.5) * 2"
      ],
      "outputs": [],
      "execution_count": 0,
      "metadata": {
        "id": "wFQzwq82H3XH",
        "colab_type": "code",
        "colab": {}
      }
    },
    {
      "cell_type": "code",
      "source": [
        "embedding_matrix"
      ],
      "outputs": [],
      "execution_count": 0,
      "metadata": {
        "id": "JOjGDBvSICnp",
        "colab_type": "code",
        "colab": {}
      }
    },
    {
      "cell_type": "code",
      "source": [
        "zh_model.get_vector('的')"
      ],
      "outputs": [],
      "execution_count": 0,
      "metadata": {
        "id": "sxkXY0JkwRIu",
        "colab_type": "code",
        "colab": {}
      }
    },
    {
      "cell_type": "code",
      "source": [
        "zh_model.get_vector(\"王树义\")"
      ],
      "outputs": [],
      "execution_count": 0,
      "metadata": {
        "id": "u6Jdt3wIwJcw",
        "colab_type": "code",
        "colab": {}
      }
    },
    {
      "cell_type": "code",
      "source": [
        "for word, i in word_index.items():\n",
        "    if i < max_words:\n",
        "        try:\n",
        "          embedding_vector = zh_model.get_vector(word)\n",
        "          embedding_matrix[i] = embedding_vector\n",
        "        except:\n",
        "          pass\n",
        "            "
      ],
      "outputs": [],
      "execution_count": 0,
      "metadata": {
        "id": "faQTT6KXv7Ye",
        "colab_type": "code",
        "colab": {}
      }
    },
    {
      "cell_type": "code",
      "source": [
        "embedding_matrix"
      ],
      "outputs": [],
      "execution_count": 0,
      "metadata": {
        "id": "Vv89licnwK5R",
        "colab_type": "code",
        "colab": {}
      }
    },
    {
      "cell_type": "code",
      "source": [
        "from keras.models import Sequential\n",
        "from keras.layers import Embedding, Flatten, Dense, LSTM\n",
        "\n",
        "units = 32\n",
        "\n",
        "model = Sequential()\n",
        "model.add(Embedding(max_words, embedding_dim))\n",
        "model.add(LSTM(units))\n",
        "model.add(Dense(1, activation='sigmoid'))\n",
        "model.summary()"
      ],
      "outputs": [],
      "execution_count": 0,
      "metadata": {
        "id": "I_aVLRSmyaGw",
        "colab_type": "code",
        "colab": {}
      }
    },
    {
      "cell_type": "code",
      "source": [
        "model.layers[0].set_weights([embedding_matrix])\n",
        "model.layers[0].trainable = False"
      ],
      "outputs": [],
      "execution_count": 0,
      "metadata": {
        "id": "aqDG3lPxysbz",
        "colab_type": "code",
        "colab": {}
      }
    },
    {
      "cell_type": "code",
      "source": [
        "model.compile(optimizer='rmsprop',\n",
        "              loss='binary_crossentropy',\n",
        "              metrics=['acc'])\n",
        "history = model.fit(X_train, y_train,\n",
        "                    epochs=10,\n",
        "                    batch_size=32,\n",
        "                    validation_data=(X_valid, y_valid))\n",
        "model.save(\"mymodel.h5\")"
      ],
      "outputs": [],
      "execution_count": 0,
      "metadata": {
        "id": "Qqt8yufnzDBu",
        "colab_type": "code",
        "colab": {}
      }
    },
    {
      "cell_type": "code",
      "source": [
        "import matplotlib.pyplot as plt\n",
        "\n",
        "acc = history.history['acc']\n",
        "val_acc = history.history['val_acc']\n",
        "loss = history.history['loss']\n",
        "val_loss = history.history['val_loss']\n",
        "\n",
        "epochs = range(1, len(acc) + 1)\n",
        "\n",
        "plt.plot(epochs, acc, 'bo', label='Training acc')\n",
        "plt.plot(epochs, val_acc, 'b', label='Validation acc')\n",
        "plt.title('Training and validation accuracy')\n",
        "plt.legend()\n",
        "\n",
        "plt.figure()\n",
        "\n",
        "plt.plot(epochs, loss, 'bo', label='Training loss')\n",
        "plt.plot(epochs, val_loss, 'b', label='Validation loss')\n",
        "plt.title('Training and validation loss')\n",
        "plt.legend()\n",
        "\nplt.show()"
      ],
      "outputs": [],
      "execution_count": 0,
      "metadata": {
        "id": "xFmquxoDzl41",
        "colab_type": "code",
        "colab": {}
      }
    },
    {
      "cell_type": "code",
      "source": [],
      "outputs": [],
      "execution_count": 0,
      "metadata": {
        "id": "Lk5HzOtRJc9A",
        "colab_type": "code",
        "colab": {}
      }
    }
  ],
  "metadata": {
    "colab": {
      "name": "demo.ipynb",
      "version": "0.3.2",
      "provenance": [],
      "collapsed_sections": []
    },
    "kernelspec": {
      "name": "python3",
      "language": "python",
      "display_name": "Python 3"
    },
    "accelerator": "TPU",
    "kernel_info": {
      "name": "python3"
    },
    "language_info": {
      "name": "python",
      "version": "3.7.0",
      "mimetype": "text/x-python",
      "codemirror_mode": {
        "name": "ipython",
        "version": 3
      },
      "pygments_lexer": "ipython3",
      "nbconvert_exporter": "python",
      "file_extension": ".py"
    },
    "nteract": {
      "version": "0.12.3"
    }
  },
  "nbformat": 4,
  "nbformat_minor": 0
}